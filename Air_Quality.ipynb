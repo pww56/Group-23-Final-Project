{
 "cells": [
  {
   "cell_type": "code",
   "execution_count": 2,
   "metadata": {},
   "outputs": [],
   "source": [
    "import pandas as pd\n",
    "import numpy as np\n",
    "import geopandas as gpd\n",
    "%matplotlib inline\n",
    "import matplotlib.pyplot as plt"
   ]
  },
  {
   "cell_type": "code",
   "execution_count": 3,
   "metadata": {},
   "outputs": [
    {
     "data": {
      "text/html": [
       "<div>\n",
       "<style scoped>\n",
       "    .dataframe tbody tr th:only-of-type {\n",
       "        vertical-align: middle;\n",
       "    }\n",
       "\n",
       "    .dataframe tbody tr th {\n",
       "        vertical-align: top;\n",
       "    }\n",
       "\n",
       "    .dataframe thead th {\n",
       "        text-align: right;\n",
       "    }\n",
       "</style>\n",
       "<table border=\"1\" class=\"dataframe\">\n",
       "  <thead>\n",
       "    <tr style=\"text-align: right;\">\n",
       "      <th></th>\n",
       "      <th>_id</th>\n",
       "      <th>date</th>\n",
       "      <th>site</th>\n",
       "      <th>parameter</th>\n",
       "      <th>index_value</th>\n",
       "      <th>description</th>\n",
       "      <th>health_advisory</th>\n",
       "      <th>health_effects</th>\n",
       "    </tr>\n",
       "  </thead>\n",
       "  <tbody>\n",
       "    <tr>\n",
       "      <th>0</th>\n",
       "      <td>1</td>\n",
       "      <td>2016-01-01</td>\n",
       "      <td>Lawrenceville</td>\n",
       "      <td>PM25B</td>\n",
       "      <td>25</td>\n",
       "      <td>Good</td>\n",
       "      <td>NaN</td>\n",
       "      <td>NaN</td>\n",
       "    </tr>\n",
       "    <tr>\n",
       "      <th>1</th>\n",
       "      <td>2</td>\n",
       "      <td>2016-01-01</td>\n",
       "      <td>Flag Plaza</td>\n",
       "      <td>CO</td>\n",
       "      <td>0</td>\n",
       "      <td>Good</td>\n",
       "      <td>NaN</td>\n",
       "      <td>NaN</td>\n",
       "    </tr>\n",
       "    <tr>\n",
       "      <th>2</th>\n",
       "      <td>3</td>\n",
       "      <td>2016-01-01</td>\n",
       "      <td>Harrison Township</td>\n",
       "      <td>OZONE</td>\n",
       "      <td>31</td>\n",
       "      <td>Good</td>\n",
       "      <td>NaN</td>\n",
       "      <td>NaN</td>\n",
       "    </tr>\n",
       "    <tr>\n",
       "      <th>3</th>\n",
       "      <td>4</td>\n",
       "      <td>2016-01-01</td>\n",
       "      <td>Avalon</td>\n",
       "      <td>SO2</td>\n",
       "      <td>10</td>\n",
       "      <td>Good</td>\n",
       "      <td>NaN</td>\n",
       "      <td>NaN</td>\n",
       "    </tr>\n",
       "    <tr>\n",
       "      <th>4</th>\n",
       "      <td>5</td>\n",
       "      <td>2016-01-01</td>\n",
       "      <td>Lincoln</td>\n",
       "      <td>PM25</td>\n",
       "      <td>35</td>\n",
       "      <td>Good</td>\n",
       "      <td>NaN</td>\n",
       "      <td>NaN</td>\n",
       "    </tr>\n",
       "    <tr>\n",
       "      <th>...</th>\n",
       "      <td>...</td>\n",
       "      <td>...</td>\n",
       "      <td>...</td>\n",
       "      <td>...</td>\n",
       "      <td>...</td>\n",
       "      <td>...</td>\n",
       "      <td>...</td>\n",
       "      <td>...</td>\n",
       "    </tr>\n",
       "    <tr>\n",
       "      <th>95</th>\n",
       "      <td>96</td>\n",
       "      <td>2016-01-05</td>\n",
       "      <td>Lawrenceville 2</td>\n",
       "      <td>SO2</td>\n",
       "      <td>27</td>\n",
       "      <td>Good</td>\n",
       "      <td>NaN</td>\n",
       "      <td>NaN</td>\n",
       "    </tr>\n",
       "    <tr>\n",
       "      <th>96</th>\n",
       "      <td>97</td>\n",
       "      <td>2016-01-05</td>\n",
       "      <td>South Fayette</td>\n",
       "      <td>SO2</td>\n",
       "      <td>11</td>\n",
       "      <td>Good</td>\n",
       "      <td>NaN</td>\n",
       "      <td>NaN</td>\n",
       "    </tr>\n",
       "    <tr>\n",
       "      <th>97</th>\n",
       "      <td>98</td>\n",
       "      <td>2016-01-05</td>\n",
       "      <td>Parkway East</td>\n",
       "      <td>CO</td>\n",
       "      <td>7</td>\n",
       "      <td>Good</td>\n",
       "      <td>NaN</td>\n",
       "      <td>NaN</td>\n",
       "    </tr>\n",
       "    <tr>\n",
       "      <th>98</th>\n",
       "      <td>99</td>\n",
       "      <td>2016-01-05</td>\n",
       "      <td>Glassport High Street</td>\n",
       "      <td>PM10</td>\n",
       "      <td>9</td>\n",
       "      <td>Good</td>\n",
       "      <td>NaN</td>\n",
       "      <td>NaN</td>\n",
       "    </tr>\n",
       "    <tr>\n",
       "      <th>99</th>\n",
       "      <td>100</td>\n",
       "      <td>2016-01-05</td>\n",
       "      <td>Parkway East</td>\n",
       "      <td>NO2</td>\n",
       "      <td>27</td>\n",
       "      <td>Good</td>\n",
       "      <td>NaN</td>\n",
       "      <td>NaN</td>\n",
       "    </tr>\n",
       "  </tbody>\n",
       "</table>\n",
       "<p>100 rows × 8 columns</p>\n",
       "</div>"
      ],
      "text/plain": [
       "    _id        date                   site parameter  index_value description  \\\n",
       "0     1  2016-01-01          Lawrenceville     PM25B           25        Good   \n",
       "1     2  2016-01-01             Flag Plaza        CO            0        Good   \n",
       "2     3  2016-01-01      Harrison Township     OZONE           31        Good   \n",
       "3     4  2016-01-01                 Avalon       SO2           10        Good   \n",
       "4     5  2016-01-01                Lincoln      PM25           35        Good   \n",
       "..  ...         ...                    ...       ...          ...         ...   \n",
       "95   96  2016-01-05        Lawrenceville 2       SO2           27        Good   \n",
       "96   97  2016-01-05          South Fayette       SO2           11        Good   \n",
       "97   98  2016-01-05           Parkway East        CO            7        Good   \n",
       "98   99  2016-01-05  Glassport High Street      PM10            9        Good   \n",
       "99  100  2016-01-05           Parkway East       NO2           27        Good   \n",
       "\n",
       "   health_advisory health_effects  \n",
       "0              NaN            NaN  \n",
       "1              NaN            NaN  \n",
       "2              NaN            NaN  \n",
       "3              NaN            NaN  \n",
       "4              NaN            NaN  \n",
       "..             ...            ...  \n",
       "95             NaN            NaN  \n",
       "96             NaN            NaN  \n",
       "97             NaN            NaN  \n",
       "98             NaN            NaN  \n",
       "99             NaN            NaN  \n",
       "\n",
       "[100 rows x 8 columns]"
      ]
     },
     "execution_count": 3,
     "metadata": {},
     "output_type": "execute_result"
    }
   ],
   "source": [
    "aqi = pd.read_csv(\"AQI.csv\")\n",
    "aqi.head(100)"
   ]
  },
  {
   "cell_type": "code",
   "execution_count": 4,
   "metadata": {},
   "outputs": [
    {
     "name": "stdout",
     "output_type": "stream",
     "text": [
      "Lawrenceville 4398\n",
      "Flag Plaza 4002\n",
      "Harrison Township 5550\n",
      "Avalon 4424\n",
      "Lincoln 3574\n",
      "South Fayette 4999\n",
      "North Braddock 7237\n",
      "Parkway East 8572\n",
      "Liberty 2 5636\n",
      "Lawrenceville 2 5714\n",
      "Glassport High Street 2857\n",
      "Liberty 2878\n",
      "Clairton 925\n",
      "West Mifflin 301\n",
      "Pittsburgh 2605\n"
     ]
    }
   ],
   "source": [
    "dictnum = dict()\n",
    "changed = False\n",
    "for i in aqi.index:\n",
    "    \n",
    "    for x in dictnum:\n",
    "        if x == aqi['site'][i]:\n",
    "            dictnum.update({aqi['site'][i] : dictnum[x] + 1})\n",
    "            changed = True\n",
    "            break\n",
    "    \n",
    "    if changed == False:\n",
    "        dictnum.update({aqi['site'][i] : 1})\n",
    "    changed = False\n",
    "    \n",
    "for x, y in dictnum.items():\n",
    "    print(x, y)"
   ]
  },
  {
   "cell_type": "code",
   "execution_count": 5,
   "metadata": {},
   "outputs": [
    {
     "name": "stdout",
     "output_type": "stream",
     "text": [
      "Lawrenceville 37.7019099590723\n",
      "Flag Plaza 9.94927536231884\n",
      "Harrison Township 24.28900900900901\n",
      "Avalon 23.486663652802893\n",
      "Lincoln 35.10800223838836\n",
      "South Fayette 22.701740348069613\n",
      "North Braddock 18.779604808622356\n",
      "Parkway East 21.904806346243582\n",
      "Liberty 2 32.46132008516678\n",
      "Lawrenceville 2 3.0582779138956946\n",
      "Glassport High Street 17.453622681134057\n",
      "Liberty 18.506254343293953\n",
      "Clairton 25.835675675675677\n",
      "West Mifflin 6.335548172757475\n",
      "Pittsburgh 26.131669865642994\n"
     ]
    }
   ],
   "source": [
    "dictAvg = dict()\n",
    "added = False\n",
    "for i in aqi.index:\n",
    "    for x in dictAvg:\n",
    "        if x == aqi['site'][i]:\n",
    "            dictAvg.update({aqi['site'][i] : dictAvg[x] + aqi['index_value'][i]})\n",
    "            added = True\n",
    "            break\n",
    "    \n",
    "    if added == False:\n",
    "        dictAvg.update({aqi['site'][i] : aqi['index_value'][i]})\n",
    "    added = False\n",
    "\n",
    "for x in dictAvg:\n",
    "    dictAvg.update({x : dictAvg[x]/dictnum[x]})\n",
    "\n",
    "for x, y in dictAvg.items():\n",
    "    print(x, y)"
   ]
  },
  {
   "cell_type": "markdown",
   "metadata": {},
   "source": [
    "These are the averages of all of the 65,000 sets of data taken by different sesors in different neighborhoods we can see that West Mifflin and Flag Plaza have the lowest average AQI out of all of the different neighborhoods"
   ]
  },
  {
   "cell_type": "code",
   "execution_count": 6,
   "metadata": {},
   "outputs": [
    {
     "name": "stdout",
     "output_type": "stream",
     "text": [
      "Lawrenceville 20.380093936484\n",
      "Liberty 25.483787214230368\n"
     ]
    }
   ],
   "source": [
    "lawrenceAvg = (37.7019099590723 + 3.0582779138956946)/2\n",
    "libertyAvg = (32.46132008516678 + 18.506254343293953)/2\n",
    "print(\"Lawrenceville\", lawrenceAvg)\n",
    "print(\"Liberty\", libertyAvg)"
   ]
  },
  {
   "cell_type": "markdown",
   "metadata": {},
   "source": [
    "These are the offical averages of Lawrenceville and Liberty sice they both had 2 different sesors on them."
   ]
  },
  {
   "cell_type": "markdown",
   "metadata": {},
   "source": [
    "West Mifflin has the healthiest AQI average at 6.335548172757475 followed by Flag plaza at 9.94927536231884, than Glassport High Street at 17.453622681134057"
   ]
  },
  {
   "cell_type": "markdown",
   "metadata": {},
   "source": [
    "1. West Mifflin 6.335548172757475\n",
    "2. Flag Plaza 9.94927536231884\n",
    "3. Glassport High Street 17.453622681134057\n",
    "4. North Braddock 18.779604808622356\n",
    "5. Lawrenceville 20.380093936484\n",
    "6. Parkway East 21.904806346243582\n",
    "7. South Fayette 22.701740348069613\n",
    "8. Avalon 23.486663652802893\n",
    "9. Harrison Township 24.28900900900901\n",
    "10. Liberty 25.483787214230368\n",
    "11. Clairton 25.835675675675677\n",
    "12. Pittsburgh 26.131669865642994\n",
    "13. Lincoln 35.10800223838836"
   ]
  },
  {
   "cell_type": "markdown",
   "metadata": {},
   "source": [
    "Neighborhoods ranked from most healthy to least healthy average AQI"
   ]
  },
  {
   "cell_type": "code",
   "execution_count": 11,
   "metadata": {},
   "outputs": [
    {
     "data": {
      "image/png": "[encoded data removed]",
      "text/plain": [
       "<Figure size 432x288 with 1 Axes>"
      ]
     },
     "metadata": {
      "needs_background": "light"
     },
     "output_type": "display_data"
    }
   ],
   "source": [
    "df = pd.DataFrame({'Neighborhood':['LV', 'Flag', 'Harri', 'Ava', 'Linc', 'SF', 'NB', 'PE', 'GLS', 'Lib', 'Clair', 'West M', 'Pitt'], 'AQI':[20.3, 9.9, 24.3, 23.4, 35.1, 22.7, 18.8, 21.9, 17.5, 25.5, 25.8, 6.3, 26.1]})\n",
    "ax = df.plot.bar(x='Neighborhood', y='AQI', rot=0)"
   ]
  },
  {
   "cell_type": "code",
   "execution_count": null,
   "metadata": {},
   "outputs": [],
   "source": []
  }
 ],
 "metadata": {
  "kernelspec": {
   "display_name": "Python 3",
   "language": "python",
   "name": "python3"
  },
  "language_info": {
   "codemirror_mode": {
    "name": "ipython",
    "version": 3
   },
   "file_extension": ".py",
   "mimetype": "text/x-python",
   "name": "python",
   "nbconvert_exporter": "python",
   "pygments_lexer": "ipython3",
   "version": "3.8.3"
  }
 },
 "nbformat": 4,
 "nbformat_minor": 4
}
