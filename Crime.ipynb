{
 "cells": [
  {
   "cell_type": "markdown",
   "metadata": {},
   "source": [
    "Patrick Walsh\n",
    "In this notebook I explore Pittsburgh Police Arrest Data to Discover which neighborhood is the safest based on crime.\n",
    "https://data.wprdc.org/dataset/arrest-data\n",
    "\n"
   ]
  },
  {
   "cell_type": "code",
   "execution_count": 24,
   "metadata": {},
   "outputs": [
    {
     "data": {
      "text/html": [
       "<div>\n",
       "<style scoped>\n",
       "    .dataframe tbody tr th:only-of-type {\n",
       "        vertical-align: middle;\n",
       "    }\n",
       "\n",
       "    .dataframe tbody tr th {\n",
       "        vertical-align: top;\n",
       "    }\n",
       "\n",
       "    .dataframe thead th {\n",
       "        text-align: right;\n",
       "    }\n",
       "</style>\n",
       "<table border=\"1\" class=\"dataframe\">\n",
       "  <thead>\n",
       "    <tr style=\"text-align: right;\">\n",
       "      <th></th>\n",
       "      <th>_id</th>\n",
       "      <th>PK</th>\n",
       "      <th>CCR</th>\n",
       "      <th>AGE</th>\n",
       "      <th>GENDER</th>\n",
       "      <th>RACE</th>\n",
       "      <th>ARRESTTIME</th>\n",
       "      <th>ARRESTLOCATION</th>\n",
       "      <th>OFFENSES</th>\n",
       "      <th>INCIDENTLOCATION</th>\n",
       "      <th>INCIDENTNEIGHBORHOOD</th>\n",
       "      <th>INCIDENTZONE</th>\n",
       "      <th>INCIDENTTRACT</th>\n",
       "      <th>COUNCIL_DISTRICT</th>\n",
       "      <th>PUBLIC_WORKS_DIVISION</th>\n",
       "      <th>X</th>\n",
       "      <th>Y</th>\n",
       "    </tr>\n",
       "  </thead>\n",
       "  <tbody>\n",
       "    <tr>\n",
       "      <th>0</th>\n",
       "      <td>1</td>\n",
       "      <td>1975272</td>\n",
       "      <td>16158872</td>\n",
       "      <td>42.0</td>\n",
       "      <td>F</td>\n",
       "      <td>B</td>\n",
       "      <td>2016-08-24T12:20:00</td>\n",
       "      <td>4700 Block Centre AV Pittsburgh, PA 15213</td>\n",
       "      <td>3929 Retail Theft.</td>\n",
       "      <td>4700 Block Centre AV Pittsburgh, PA 15213</td>\n",
       "      <td>Bloomfield</td>\n",
       "      <td>5</td>\n",
       "      <td>804.0</td>\n",
       "      <td>8.0</td>\n",
       "      <td>2.0</td>\n",
       "      <td>-79.949277</td>\n",
       "      <td>40.452551</td>\n",
       "    </tr>\n",
       "    <tr>\n",
       "      <th>1</th>\n",
       "      <td>2</td>\n",
       "      <td>1974456</td>\n",
       "      <td>16144120</td>\n",
       "      <td>31.0</td>\n",
       "      <td>M</td>\n",
       "      <td>W</td>\n",
       "      <td>2016-08-03T14:55:00</td>\n",
       "      <td>4200 Block Steubenville PKE Pittsburgh, PA 15205</td>\n",
       "      <td>13(a)(16) Possession of Controlled Substance</td>\n",
       "      <td>4200 Block Steubenville PKE Pittsburgh, PA 15205</td>\n",
       "      <td>Outside City</td>\n",
       "      <td>OSC</td>\n",
       "      <td>5599.0</td>\n",
       "      <td>NaN</td>\n",
       "      <td>NaN</td>\n",
       "      <td>-80.088018</td>\n",
       "      <td>40.440136</td>\n",
       "    </tr>\n",
       "    <tr>\n",
       "      <th>2</th>\n",
       "      <td>3</td>\n",
       "      <td>1974466</td>\n",
       "      <td>16144165</td>\n",
       "      <td>63.0</td>\n",
       "      <td>F</td>\n",
       "      <td>B</td>\n",
       "      <td>2016-08-03T16:45:00</td>\n",
       "      <td>900 Block Freeport RD Fox Chapel, PA 15238</td>\n",
       "      <td>3929 Retail Theft.</td>\n",
       "      <td>900 Block Freeport RD Fox Chapel, PA 15238</td>\n",
       "      <td>Westwood</td>\n",
       "      <td>5</td>\n",
       "      <td>2811.0</td>\n",
       "      <td>9.0</td>\n",
       "      <td>2.0</td>\n",
       "      <td>-79.891803</td>\n",
       "      <td>40.486625</td>\n",
       "    </tr>\n",
       "    <tr>\n",
       "      <th>3</th>\n",
       "      <td>4</td>\n",
       "      <td>1974550</td>\n",
       "      <td>16145257</td>\n",
       "      <td>25.0</td>\n",
       "      <td>F</td>\n",
       "      <td>W</td>\n",
       "      <td>2016-08-05T02:36:00</td>\n",
       "      <td>Foreland ST &amp; Cedar AV Pittsburgh, PA 15212</td>\n",
       "      <td>5503 Disorderly Conduct. / 5505 Public Drunken...</td>\n",
       "      <td>Foreland ST &amp; Cedar AV Pittsburgh, PA 15212</td>\n",
       "      <td>East Allegheny</td>\n",
       "      <td>1</td>\n",
       "      <td>2304.0</td>\n",
       "      <td>1.0</td>\n",
       "      <td>1.0</td>\n",
       "      <td>-80.001939</td>\n",
       "      <td>40.454080</td>\n",
       "    </tr>\n",
       "    <tr>\n",
       "      <th>4</th>\n",
       "      <td>5</td>\n",
       "      <td>1974596</td>\n",
       "      <td>16145962</td>\n",
       "      <td>25.0</td>\n",
       "      <td>M</td>\n",
       "      <td>B</td>\n",
       "      <td>2016-08-06T02:00:00</td>\n",
       "      <td>900 Block Woodlow ST Pittsburgh, PA 15205</td>\n",
       "      <td>2702 Aggravated Assault. / 2705 Recklessy Enda...</td>\n",
       "      <td>900 Block Woodlow ST Pittsburgh, PA 15205</td>\n",
       "      <td>Crafton Heights</td>\n",
       "      <td>5</td>\n",
       "      <td>2814.0</td>\n",
       "      <td>2.0</td>\n",
       "      <td>5.0</td>\n",
       "      <td>-80.052204</td>\n",
       "      <td>40.445900</td>\n",
       "    </tr>\n",
       "    <tr>\n",
       "      <th>5</th>\n",
       "      <td>6</td>\n",
       "      <td>1974556</td>\n",
       "      <td>16144301</td>\n",
       "      <td>45.0</td>\n",
       "      <td>M</td>\n",
       "      <td>W</td>\n",
       "      <td>2016-08-15T13:30:00</td>\n",
       "      <td>600 Block 1st AV Pittsburgh, PA 15219</td>\n",
       "      <td>3929 Retail Theft.</td>\n",
       "      <td>800 Block Hazelwood AV Pittsburgh, PA 15217</td>\n",
       "      <td>Greenfield</td>\n",
       "      <td>4</td>\n",
       "      <td>1517.0</td>\n",
       "      <td>5.0</td>\n",
       "      <td>3.0</td>\n",
       "      <td>-79.929238</td>\n",
       "      <td>40.419699</td>\n",
       "    </tr>\n",
       "    <tr>\n",
       "      <th>6</th>\n",
       "      <td>7</td>\n",
       "      <td>1974628</td>\n",
       "      <td>16147655</td>\n",
       "      <td>29.0</td>\n",
       "      <td>M</td>\n",
       "      <td>W</td>\n",
       "      <td>2016-08-16T13:00:00</td>\n",
       "      <td>2300 Block Pioneer AV Pittsburgh, PA 15226</td>\n",
       "      <td>2701 Simple Assault.</td>\n",
       "      <td>2300 Block Pioneer AV Pittsburgh, PA 15226</td>\n",
       "      <td>Brookline</td>\n",
       "      <td>6</td>\n",
       "      <td>1919.0</td>\n",
       "      <td>4.0</td>\n",
       "      <td>5.0</td>\n",
       "      <td>-80.020357</td>\n",
       "      <td>40.400037</td>\n",
       "    </tr>\n",
       "    <tr>\n",
       "      <th>7</th>\n",
       "      <td>8</td>\n",
       "      <td>1974607</td>\n",
       "      <td>16146037</td>\n",
       "      <td>21.0</td>\n",
       "      <td>F</td>\n",
       "      <td>B</td>\n",
       "      <td>2016-08-16T04:25:00</td>\n",
       "      <td>600 Block 1st AV Pittsburgh, PA 15219</td>\n",
       "      <td>2701 Simple Assault. / 5505 Public Drunkenness...</td>\n",
       "      <td>700 Block S Braddock AV Pittsburgh, PA 15221</td>\n",
       "      <td>Regent Square</td>\n",
       "      <td>4</td>\n",
       "      <td>1410.0</td>\n",
       "      <td>NaN</td>\n",
       "      <td>NaN</td>\n",
       "      <td>-79.834462</td>\n",
       "      <td>40.398957</td>\n",
       "    </tr>\n",
       "    <tr>\n",
       "      <th>8</th>\n",
       "      <td>9</td>\n",
       "      <td>1974643</td>\n",
       "      <td>16132537</td>\n",
       "      <td>17.0</td>\n",
       "      <td>M</td>\n",
       "      <td>B</td>\n",
       "      <td>2016-08-29T17:55:00</td>\n",
       "      <td>1400 Block Washington BL Pittsburgh, PA 15206</td>\n",
       "      <td>903 Criminal Conspiracy. / 3701 Robbery.</td>\n",
       "      <td>N Euclid AV &amp; Broad ST Pittsburgh, PA 15206</td>\n",
       "      <td>East Liberty</td>\n",
       "      <td>5</td>\n",
       "      <td>1115.0</td>\n",
       "      <td>NaN</td>\n",
       "      <td>NaN</td>\n",
       "      <td>NaN</td>\n",
       "      <td>NaN</td>\n",
       "    </tr>\n",
       "    <tr>\n",
       "      <th>9</th>\n",
       "      <td>10</td>\n",
       "      <td>1974647</td>\n",
       "      <td>16138646</td>\n",
       "      <td>14.0</td>\n",
       "      <td>M</td>\n",
       "      <td>B</td>\n",
       "      <td>2016-08-23T13:36:00</td>\n",
       "      <td>Zone 2</td>\n",
       "      <td>3127 Indecent Exposure. / 3123(a)(6) IDSI with...</td>\n",
       "      <td>Zone 5</td>\n",
       "      <td>NaN</td>\n",
       "      <td>5</td>\n",
       "      <td>NaN</td>\n",
       "      <td>NaN</td>\n",
       "      <td>NaN</td>\n",
       "      <td>NaN</td>\n",
       "      <td>NaN</td>\n",
       "    </tr>\n",
       "  </tbody>\n",
       "</table>\n",
       "</div>"
      ],
      "text/plain": [
       "   _id       PK       CCR   AGE GENDER RACE           ARRESTTIME  \\\n",
       "0    1  1975272  16158872  42.0      F    B  2016-08-24T12:20:00   \n",
       "1    2  1974456  16144120  31.0      M    W  2016-08-03T14:55:00   \n",
       "2    3  1974466  16144165  63.0      F    B  2016-08-03T16:45:00   \n",
       "3    4  1974550  16145257  25.0      F    W  2016-08-05T02:36:00   \n",
       "4    5  1974596  16145962  25.0      M    B  2016-08-06T02:00:00   \n",
       "5    6  1974556  16144301  45.0      M    W  2016-08-15T13:30:00   \n",
       "6    7  1974628  16147655  29.0      M    W  2016-08-16T13:00:00   \n",
       "7    8  1974607  16146037  21.0      F    B  2016-08-16T04:25:00   \n",
       "8    9  1974643  16132537  17.0      M    B  2016-08-29T17:55:00   \n",
       "9   10  1974647  16138646  14.0      M    B  2016-08-23T13:36:00   \n",
       "\n",
       "                                     ARRESTLOCATION  \\\n",
       "0         4700 Block Centre AV Pittsburgh, PA 15213   \n",
       "1  4200 Block Steubenville PKE Pittsburgh, PA 15205   \n",
       "2        900 Block Freeport RD Fox Chapel, PA 15238   \n",
       "3       Foreland ST & Cedar AV Pittsburgh, PA 15212   \n",
       "4         900 Block Woodlow ST Pittsburgh, PA 15205   \n",
       "5             600 Block 1st AV Pittsburgh, PA 15219   \n",
       "6        2300 Block Pioneer AV Pittsburgh, PA 15226   \n",
       "7             600 Block 1st AV Pittsburgh, PA 15219   \n",
       "8     1400 Block Washington BL Pittsburgh, PA 15206   \n",
       "9                                            Zone 2   \n",
       "\n",
       "                                            OFFENSES  \\\n",
       "0                                 3929 Retail Theft.   \n",
       "1       13(a)(16) Possession of Controlled Substance   \n",
       "2                                 3929 Retail Theft.   \n",
       "3  5503 Disorderly Conduct. / 5505 Public Drunken...   \n",
       "4  2702 Aggravated Assault. / 2705 Recklessy Enda...   \n",
       "5                                 3929 Retail Theft.   \n",
       "6                               2701 Simple Assault.   \n",
       "7  2701 Simple Assault. / 5505 Public Drunkenness...   \n",
       "8           903 Criminal Conspiracy. / 3701 Robbery.   \n",
       "9  3127 Indecent Exposure. / 3123(a)(6) IDSI with...   \n",
       "\n",
       "                                   INCIDENTLOCATION INCIDENTNEIGHBORHOOD  \\\n",
       "0         4700 Block Centre AV Pittsburgh, PA 15213           Bloomfield   \n",
       "1  4200 Block Steubenville PKE Pittsburgh, PA 15205         Outside City   \n",
       "2        900 Block Freeport RD Fox Chapel, PA 15238             Westwood   \n",
       "3       Foreland ST & Cedar AV Pittsburgh, PA 15212       East Allegheny   \n",
       "4         900 Block Woodlow ST Pittsburgh, PA 15205      Crafton Heights   \n",
       "5       800 Block Hazelwood AV Pittsburgh, PA 15217           Greenfield   \n",
       "6        2300 Block Pioneer AV Pittsburgh, PA 15226            Brookline   \n",
       "7      700 Block S Braddock AV Pittsburgh, PA 15221        Regent Square   \n",
       "8       N Euclid AV & Broad ST Pittsburgh, PA 15206         East Liberty   \n",
       "9                                            Zone 5                  NaN   \n",
       "\n",
       "  INCIDENTZONE  INCIDENTTRACT  COUNCIL_DISTRICT  PUBLIC_WORKS_DIVISION  \\\n",
       "0            5          804.0               8.0                    2.0   \n",
       "1          OSC         5599.0               NaN                    NaN   \n",
       "2            5         2811.0               9.0                    2.0   \n",
       "3            1         2304.0               1.0                    1.0   \n",
       "4            5         2814.0               2.0                    5.0   \n",
       "5            4         1517.0               5.0                    3.0   \n",
       "6            6         1919.0               4.0                    5.0   \n",
       "7            4         1410.0               NaN                    NaN   \n",
       "8            5         1115.0               NaN                    NaN   \n",
       "9            5            NaN               NaN                    NaN   \n",
       "\n",
       "           X          Y  \n",
       "0 -79.949277  40.452551  \n",
       "1 -80.088018  40.440136  \n",
       "2 -79.891803  40.486625  \n",
       "3 -80.001939  40.454080  \n",
       "4 -80.052204  40.445900  \n",
       "5 -79.929238  40.419699  \n",
       "6 -80.020357  40.400037  \n",
       "7 -79.834462  40.398957  \n",
       "8        NaN        NaN  \n",
       "9        NaN        NaN  "
      ]
     },
     "execution_count": 24,
     "metadata": {},
     "output_type": "execute_result"
    }
   ],
   "source": [
    "import pandas as pd\n",
    "import numpy as np\n",
    "%matplotlib inline\n",
    "import matplotlib.pyplot as plt\n",
    "\n",
    "crime = pd.read_csv(\"arrestdata.csv\")\n",
    "crime.head(10)\n",
    "\n"
   ]
  },
  {
   "cell_type": "code",
   "execution_count": 25,
   "metadata": {},
   "outputs": [
    {
     "name": "stdout",
     "output_type": "stream",
     "text": [
      "Central Business District    4238\n",
      "South Side Flats             3377\n",
      "Carrick                      2297\n",
      "East Allegheny               2153\n",
      "Homewood South               2044\n",
      "                             ... \n",
      "Regent Square                  36\n",
      "Central Northside              23\n",
      "Mt. Oliver Boro                18\n",
      "Troy Hill-Herrs Island          6\n",
      "Mt. Oliver Neighborhood         2\n",
      "Name: INCIDENTNEIGHBORHOOD, Length: 98, dtype: int64\n"
     ]
    },
    {
     "data": {
      "text/plain": [
       "<matplotlib.axes._subplots.AxesSubplot at 0x7f0d7f071730>"
      ]
     },
     "execution_count": 25,
     "metadata": {},
     "output_type": "execute_result"
    },
    {
     "data": {
      "image/png": "[encoded data removed]",
      "text/plain": [
       "<Figure size 432x288 with 1 Axes>"
      ]
     },
     "metadata": {
      "needs_background": "light"
     },
     "output_type": "display_data"
    }
   ],
   "source": [
    "print(crime['INCIDENTNEIGHBORHOOD'].value_counts())\n",
    "crime['INCIDENTNEIGHBORHOOD'].value_counts().plot()\n",
    "\n",
    "\n",
    "    "
   ]
  },
  {
   "cell_type": "markdown",
   "metadata": {},
   "source": [
    "Based on these initial findings, Mt. Oliver Neighborhood appears to be the safest, with the Central Business District being the most dangerous.  Unfortunately, the arrest dataset did not contain any population data for the neighborhoods, so this is only the amount of crimes in a neighborhood, not the amount of crimes per an amount of people.\n",
    "\n",
    "I also wanted to find out how these neighborhoods were specifically with violent crime."
   ]
  },
  {
   "cell_type": "code",
   "execution_count": 11,
   "metadata": {},
   "outputs": [
    {
     "name": "stdout",
     "output_type": "stream",
     "text": [
      "0                                       3929 Retail Theft.\n",
      "1             13(a)(16) Possession of Controlled Substance\n",
      "2                                       3929 Retail Theft.\n",
      "3        5503 Disorderly Conduct. / 5505 Public Drunken...\n",
      "4        2702 Aggravated Assault. / 2705 Recklessy Enda...\n",
      "                               ...                        \n",
      "64847    13(a)(16) Possession of Controlled Substance /...\n",
      "64848    3701 Robbery. / 2701(a)(1) Simple Assault - In...\n",
      "64849    2706 Terroristic Threats. / 2709(a)(1) Harassm...\n",
      "64850    901 Criminal Attempt / 907 Possessing Instrume...\n",
      "64851                                   9501 Bench Warrant\n",
      "Name: OFFENSES, Length: 64852, dtype: object\n"
     ]
    }
   ],
   "source": [
    "\n",
    "print(crime['OFFENSES'])\n",
    "\n",
    "\n"
   ]
  },
  {
   "cell_type": "markdown",
   "metadata": {},
   "source": [
    "This helps me figure out what the different offenses are, and what I need to search for to find violent crimes"
   ]
  },
  {
   "cell_type": "code",
   "execution_count": 21,
   "metadata": {},
   "outputs": [
    {
     "name": "stdout",
     "output_type": "stream",
     "text": [
      "Central Business District    842\n",
      "South Side Flats             813\n",
      "Carrick                      763\n",
      "Marshall-Shadeland           572\n",
      "Homewood North               527\n",
      "                            ... \n",
      "Outside State                  6\n",
      "Mt. Oliver Boro                5\n",
      "Mt. Oliver Neighborhood        1\n",
      "Central Northside              1\n",
      "Outside County                 1\n",
      "Name: INCIDENTNEIGHBORHOOD, Length: 97, dtype: int64\n"
     ]
    },
    {
     "data": {
      "text/plain": [
       "<matplotlib.axes._subplots.AxesSubplot at 0x7f0d808d3400>"
      ]
     },
     "execution_count": 21,
     "metadata": {},
     "output_type": "execute_result"
    },
    {
     "data": {
      "image/png": "[encoded data removed]",
      "text/plain": [
       "<Figure size 432x288 with 1 Axes>"
      ]
     },
     "metadata": {
      "needs_background": "light"
     },
     "output_type": "display_data"
    }
   ],
   "source": [
    "\n",
    "query_mask = crime['OFFENSES'].str.contains('Assault', na = False)\n",
    "assault = crime[query_mask]\n",
    "print(assault['INCIDENTNEIGHBORHOOD'].value_counts())\n",
    "\n",
    "assault['INCIDENTNEIGHBORHOOD'].value_counts().plot()\n",
    "\n",
    "\n",
    "\n",
    "    \n"
   ]
  },
  {
   "cell_type": "markdown",
   "metadata": {},
   "source": [
    "Mt Oliver also has the lowest amount of assaults, and the Mt Oliver Borough has the second least.\n",
    "\n"
   ]
  },
  {
   "cell_type": "code",
   "execution_count": 8,
   "metadata": {},
   "outputs": [
    {
     "data": {
      "text/plain": [
       "<matplotlib.axes._subplots.AxesSubplot at 0x7f0d7f7362b0>"
      ]
     },
     "execution_count": 8,
     "metadata": {},
     "output_type": "execute_result"
    },
    {
     "data": {
      "image/png": "[encoded data removed]",
      "text/plain": [
       "<Figure size 432x288 with 1 Axes>"
      ]
     },
     "metadata": {
      "needs_background": "light"
     },
     "output_type": "display_data"
    }
   ],
   "source": [
    "query_mask = crime['OFFENSES'].str.contains('Homicide', na = False)\n",
    "homicide = crime[query_mask]\n",
    "homicide['INCIDENTNEIGHBORHOOD'].value_counts().plot()"
   ]
  },
  {
   "cell_type": "markdown",
   "metadata": {},
   "source": [
    "This graph has less elements than the previous one because it does not show neighborhoods with 0 homicides.  Mt Oliver does not have any murders, and is still appearing to be the safest neighborhood in terms of crime."
   ]
  },
  {
   "cell_type": "code",
   "execution_count": 23,
   "metadata": {},
   "outputs": [
    {
     "name": "stdout",
     "output_type": "stream",
     "text": [
      "<bound method IndexOpsMixin.value_counts of 190      NaN\n",
      "518      NaN\n",
      "576      NaN\n",
      "779      NaN\n",
      "940      NaN\n",
      "        ... \n",
      "63051    NaN\n",
      "63775    NaN\n",
      "64171    NaN\n",
      "64348    NaN\n",
      "64351    NaN\n",
      "Name: INCIDENTNEIGHBORHOOD, Length: 184, dtype: object>\n"
     ]
    }
   ],
   "source": [
    "query_mask = crime['OFFENSES'].str.contains('Rape', na = False)\n",
    "rape = crime[query_mask]\n",
    "print(rape['INCIDENTNEIGHBORHOOD'].value_counts)\n"
   ]
  },
  {
   "cell_type": "markdown",
   "metadata": {},
   "source": [
    "Arrests for rape do not contain and information about the location, so I was not able to factor that into my search."
   ]
  },
  {
   "cell_type": "markdown",
   "metadata": {},
   "source": [
    "If I assign normal crimes a value of 1 and violent crimes a value of 2, multiply the amount of those crimes and add them, I get my crime score.  Arrests for Rape did not factor into this because the neighborhood is not listed for rapes.  Mt Oliver has the lowest with a score of 4, Troy Hill-Herrs Island is in second with a score of 6, Central Northside is third with a score of 25, and Mt Oliver Borough is fourth with a score of 28."
   ]
  },
  {
   "cell_type": "code",
   "execution_count": null,
   "metadata": {},
   "outputs": [],
   "source": []
  }
 ],
 "metadata": {
  "kernelspec": {
   "display_name": "Python 3",
   "language": "python",
   "name": "python3"
  },
  "language_info": {
   "codemirror_mode": {
    "name": "ipython",
    "version": 3
   },
   "file_extension": ".py",
   "mimetype": "text/x-python",
   "name": "python",
   "nbconvert_exporter": "python",
   "pygments_lexer": "ipython3",
   "version": "3.8.3"
  }
 },
 "nbformat": 4,
 "nbformat_minor": 4
}
