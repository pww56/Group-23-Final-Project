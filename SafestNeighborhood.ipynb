{
 "cells": [
  {
   "cell_type": "markdown",
   "metadata": {},
   "source": [
    "# Introduction"
   ]
  },
  {
   "cell_type": "markdown",
   "metadata": {},
   "source": [
    "When thinking of what makes a neighborhood the best, safety seems like the obvious choice.  It is hard to worry about schools, transit, or anything else if you do not feel safe.  We decided to think of safety by crimes, fires, and air quality.  Crimes in general are scary to people, and very few people feel safe in areas with a lot of crime.  Violent crimes especially make people feel unsafe.  Fires can be very deFires can cost people their lives, the lives of loved ones, and all of their material possessions, including their shelter.  A neighborhood that is not prone to fires is not safe for the people there.  Most people do not associate air quality with safety, but poor air quality can kill us."
   ]
  },
  {
   "cell_type": "markdown",
   "metadata": {},
   "source": [
    "# Crimes"
   ]
  },
  {
   "cell_type": "markdown",
   "metadata": {},
   "source": [
    "I used the Pittsburgh Police Arrests dataset to see how safe the neighborhoods in Pittsburgh are.  The datset can be accessed here: [Arrest Data](https://data.wprdc.org/dataset/arrest-data)\n",
    "\n",
    "This Dataset lists all the arrests by Pittsburgh Police.  With each arrest it has some information, I used the Neighborhood of the Incident that caused the arrest, and what the arrest was for.  Using these, I was able to find out how many crimes and violent crimes occured in each neighborhood."
   ]
  },
  {
   "cell_type": "code",
   "execution_count": 2,
   "metadata": {},
   "outputs": [],
   "source": [
    "import pandas as pd\n",
    "import numpy as np\n",
    "%matplotlib inline\n",
    "import matplotlib.pyplot as plt\n",
    "\n",
    "crime = pd.read_csv(\"arrestdata.csv\")\n",
    "\n"
   ]
  },
  {
   "cell_type": "code",
   "execution_count": 3,
   "metadata": {},
   "outputs": [
    {
     "name": "stdout",
     "output_type": "stream",
     "text": [
      "Central Business District    4238\n",
      "South Side Flats             3377\n",
      "Carrick                      2297\n",
      "East Allegheny               2153\n",
      "Homewood South               2044\n",
      "                             ... \n",
      "Regent Square                  36\n",
      "Central Northside              23\n",
      "Mt. Oliver Boro                18\n",
      "Troy Hill-Herrs Island          6\n",
      "Mt. Oliver Neighborhood         2\n",
      "Name: INCIDENTNEIGHBORHOOD, Length: 98, dtype: int64\n"
     ]
    },
    {
     "data": {
      "text/plain": [
       "<matplotlib.axes._subplots.AxesSubplot at 0x7fcb59c09d60>"
      ]
     },
     "execution_count": 3,
     "metadata": {},
     "output_type": "execute_result"
    },
    {
     "data": {
      "image/png": "[encoded data removed]",
      "text/plain": [
       "<Figure size 432x288 with 1 Axes>"
      ]
     },
     "metadata": {
      "needs_background": "light"
     },
     "output_type": "display_data"
    }
   ],
   "source": [
    "print(crime['INCIDENTNEIGHBORHOOD'].value_counts())\n",
    "crime['INCIDENTNEIGHBORHOOD'].value_counts().plot()\n"
   ]
  },
  {
   "cell_type": "markdown",
   "metadata": {},
   "source": [
    "Based on these initial findings, Mt. Oliver Neighborhood appears to be the safest, with the Central Business District being the most dangerous.  Unfortunately, the arrest dataset did not contain any population data for the neighborhoods, so this is only the amount of crimes in a neighborhood, not the amount of crimes per an amount of people.\n",
    "\n",
    "I also wanted to find out how these neighborhoods were specifically with violent crime."
   ]
  },
  {
   "cell_type": "code",
   "execution_count": 4,
   "metadata": {},
   "outputs": [
    {
     "name": "stdout",
     "output_type": "stream",
     "text": [
      "Central Business District    842\n",
      "South Side Flats             813\n",
      "Carrick                      763\n",
      "Marshall-Shadeland           572\n",
      "Homewood North               527\n",
      "                            ... \n",
      "Outside State                  6\n",
      "Mt. Oliver Boro                5\n",
      "Mt. Oliver Neighborhood        1\n",
      "Central Northside              1\n",
      "Outside County                 1\n",
      "Name: INCIDENTNEIGHBORHOOD, Length: 97, dtype: int64\n"
     ]
    },
    {
     "data": {
      "text/plain": [
       "<matplotlib.axes._subplots.AxesSubplot at 0x7fe918065ac0>"
      ]
     },
     "execution_count": 4,
     "metadata": {},
     "output_type": "execute_result"
    },
    {
     "data": {
      "image/png": "[encoded data removed]",
      "text/plain": [
       "<Figure size 432x288 with 1 Axes>"
      ]
     },
     "metadata": {
      "needs_background": "light"
     },
     "output_type": "display_data"
    }
   ],
   "source": [
    "query_mask = crime['OFFENSES'].str.contains('Assault', na = False)\n",
    "assault = crime[query_mask]\n",
    "print(assault['INCIDENTNEIGHBORHOOD'].value_counts())\n",
    "assault['INCIDENTNEIGHBORHOOD'].value_counts().plot()"
   ]
  },
  {
   "cell_type": "markdown",
   "metadata": {},
   "source": [
    "Mt Oliver also has the lowest amount of assaults, and the Mt Oliver Borough has the second least."
   ]
  },
  {
   "cell_type": "code",
   "execution_count": 6,
   "metadata": {},
   "outputs": [
    {
     "name": "stdout",
     "output_type": "stream",
     "text": [
      "Knoxville                      14\n",
      "Carrick                        12\n",
      "Sheraden                       12\n",
      "Homewood South                 11\n",
      "Homewood North                 11\n",
      "                               ..\n",
      "Upper Hill                      1\n",
      "Terrace Village                 1\n",
      "Troy Hill                       1\n",
      "Golden Triangle/Civic Arena     1\n",
      "Upper Lawrenceville             1\n",
      "Name: INCIDENTNEIGHBORHOOD, Length: 61, dtype: int64\n"
     ]
    },
    {
     "data": {
      "text/plain": [
       "<matplotlib.axes._subplots.AxesSubplot at 0x7fe917049670>"
      ]
     },
     "execution_count": 6,
     "metadata": {},
     "output_type": "execute_result"
    },
    {
     "data": {
      "image/png": "[encoded data removed]",
      "text/plain": [
       "<Figure size 432x288 with 1 Axes>"
      ]
     },
     "metadata": {
      "needs_background": "light"
     },
     "output_type": "display_data"
    }
   ],
   "source": [
    "query_mask = crime['OFFENSES'].str.contains('Homicide', na = False)\n",
    "homicide = crime[query_mask]\n",
    "print(homicide['INCIDENTNEIGHBORHOOD'].value_counts())\n",
    "homicide['INCIDENTNEIGHBORHOOD'].value_counts().plot()"
   ]
  },
  {
   "cell_type": "markdown",
   "metadata": {},
   "source": [
    "This graph has less elements than the previous one because it does not show neighborhoods with 0 homicides.  Mt Oliver does not have any murders, and is still appearing to be the safest neighborhood in terms of crime."
   ]
  },
  {
   "cell_type": "code",
   "execution_count": 7,
   "metadata": {},
   "outputs": [
    {
     "name": "stdout",
     "output_type": "stream",
     "text": [
      "Central Business District    850\n",
      "South Side Flats             817\n",
      "Carrick                      775\n",
      "Marshall-Shadeland           580\n",
      "Homewood North               538\n",
      "                            ... \n",
      "Outside State                  6\n",
      "Mt. Oliver Boro                5\n",
      "Mt. Oliver Neighborhood        1\n",
      "Central Northside              1\n",
      "Outside County                 1\n",
      "Name: INCIDENTNEIGHBORHOOD, Length: 97, dtype: int64\n"
     ]
    },
    {
     "data": {
      "text/plain": [
       "<matplotlib.axes._subplots.AxesSubplot at 0x7fe916fad5e0>"
      ]
     },
     "execution_count": 7,
     "metadata": {},
     "output_type": "execute_result"
    },
    {
     "data": {
      "image/png": "[encoded data removed]",
      "text/plain": [
       "<Figure size 432x288 with 1 Axes>"
      ]
     },
     "metadata": {
      "needs_background": "light"
     },
     "output_type": "display_data"
    }
   ],
   "source": [
    "violentcrimes = pd.concat([assault, homicide])\n",
    "print(violentcrimes['INCIDENTNEIGHBORHOOD'].value_counts())\n",
    "violentcrimes['INCIDENTNEIGHBORHOOD'].value_counts().plot()"
   ]
  },
  {
   "cell_type": "markdown",
   "metadata": {},
   "source": [
    "If I assign normal crimes a value of 1 and violent crimes a value of 2, multiply the amount of those crimes and add them, I get my crime score.  Arrests for Rape did not factor into this because the neighborhood is not listed for rapes.  Mt Oliver has the lowest with a score of 4, Troy Hill-Herrs Island is in second with a score of 6, Central Northside is third with a score of 25, and Mt Oliver Borough is fourth with a score of 28."
   ]
  },
  {
   "cell_type": "markdown",
   "metadata": {},
   "source": [
    "# Fire Incidents"
   ]
  },
  {
   "cell_type": "code",
   "execution_count": 4,
   "metadata": {},
   "outputs": [
    {
     "name": "stdout",
     "output_type": "stream",
     "text": [
      "Carrick                      283\n",
      "Central Business District    266\n",
      "South Side Flats             260\n",
      "Squirrel Hill South          252\n",
      "Hazelwood                    244\n",
      "                            ... \n",
      "St. Clair                     12\n",
      "East Carnegie                 11\n",
      "Mt. Oliver                    11\n",
      "Regent Square                  9\n",
      "Mount Oliver Borough           6\n",
      "Name: neighborhood, Length: 91, dtype: int64\n"
     ]
    },
    {
     "data": {
      "image/png": "[encoded data removed]",
      "text/plain": [
       "<Figure size 432x288 with 1 Axes>"
      ]
     },
     "metadata": {
      "needs_background": "light"
     },
     "output_type": "display_data"
    }
   ],
   "source": [
    "fire = pd.read_csv(\"fire_incidents.csv\")\n",
    "\n",
    "newdict = dict()\n",
    "for index, row in fire.iterrows():\n",
    "    if fire.neighborhood[index] in newdict:\n",
    "        number = newdict[fire.neighborhood[index]]\n",
    "        newdict[fire.neighborhood[index]] = number + 1\n",
    "    else:\n",
    "        newdict[fire.neighborhood[index]]=1\n",
    "\n",
    "        \n",
    "print(fire['neighborhood'].value_counts())\n",
    "df = pd.DataFrame({'Neighborhood':['Mt. Oliver Borough', 'Regent Square', 'East Carnegie', 'Mt. Oliver', 'Ridgemont', 'St. Claire', 'Arlington Heights', 'Oakwood', 'Swisshelm Park', 'Chartiers City'], 'Incidents':[6, 9, 11, 11, 12, 12, 13, 13, 16, 17]})\n",
    "ax = df.plot.bar(x='Neighborhood', y='Incidents', rot=90)"
   ]
  },
  {
   "cell_type": "markdown",
   "metadata": {},
   "source": [
    "After reviewing the data for the number of fire incidents, it appears that Carrick is the most dangerous neighborhood in Pittsburgh with 283 fire incidents reported from 2013 to 2023.\n",
    "Mount Oliver Borough is the safest neighborhood, as it only has had 6 incidents reported over the last 10 years. The graph demonstrates the ten safest cities by this standard. However, if we want to exclude certain types of fires, such as contained cooking fires, this would change the data a bit."
   ]
  },
  {
   "cell_type": "code",
   "execution_count": 5,
   "metadata": {},
   "outputs": [
    {
     "name": "stdout",
     "output_type": "stream",
     "text": [
      "Carrick                      231\n",
      "Central Business District    206\n",
      "Hazelwood                    197\n",
      "South Side Flats             191\n",
      "Mount Washington             186\n",
      "                            ... \n",
      "East Carnegie                  7\n",
      "Regent Square                  7\n",
      "Mount Oliver Borough           6\n",
      "Arlington Heights              6\n",
      "Glen Hazel                     5\n",
      "Name: neighborhood, Length: 91, dtype: int64\n"
     ]
    },
    {
     "data": {
      "image/png": "[encoded data removed]",
      "text/plain": [
       "<Figure size 432x288 with 1 Axes>"
      ]
     },
     "metadata": {
      "needs_background": "light"
     },
     "output_type": "display_data"
    }
   ],
   "source": [
    "fire_type = fire[fire[\"type_description\"].str.contains('Cooking fire, confined to container')==False]\n",
    "print(fire_type['neighborhood'].value_counts())\n",
    "df = pd.DataFrame({'Neighborhood':['Glen Hazel', 'Arlington Heights', 'Mt Oliver Borough', 'Regent Square', 'East Carnegie', 'Oakwood', 'Mt. Oliver', 'St. Claire', 'Swisshelm Park', 'Ridgemont'], 'Incidents':[5, 6, 6, 7, 7, 9, 10, 11, 12, 12]})\n",
    "ax = df.plot.bar(x='Neighborhood', y='Incidents', rot=90)"
   ]
  },
  {
   "cell_type": "markdown",
   "metadata": {},
   "source": [
    "Glen Hazel would become the safest city by fire standards, though Mt. Oliver Borough would only be moved down to the third safest."
   ]
  },
  {
   "cell_type": "markdown",
   "metadata": {},
   "source": [
    "# Air Quality"
   ]
  },
  {
   "cell_type": "code",
   "execution_count": 2,
   "metadata": {},
   "outputs": [
    {
     "data": {
      "text/html": [
       "<div>\n",
       "<style scoped>\n",
       "    .dataframe tbody tr th:only-of-type {\n",
       "        vertical-align: middle;\n",
       "    }\n",
       "\n",
       "    .dataframe tbody tr th {\n",
       "        vertical-align: top;\n",
       "    }\n",
       "\n",
       "    .dataframe thead th {\n",
       "        text-align: right;\n",
       "    }\n",
       "</style>\n",
       "<table border=\"1\" class=\"dataframe\">\n",
       "  <thead>\n",
       "    <tr style=\"text-align: right;\">\n",
       "      <th></th>\n",
       "      <th>_id</th>\n",
       "      <th>date</th>\n",
       "      <th>site</th>\n",
       "      <th>parameter</th>\n",
       "      <th>index_value</th>\n",
       "      <th>description</th>\n",
       "      <th>health_advisory</th>\n",
       "      <th>health_effects</th>\n",
       "    </tr>\n",
       "  </thead>\n",
       "  <tbody>\n",
       "    <tr>\n",
       "      <th>0</th>\n",
       "      <td>1</td>\n",
       "      <td>2016-01-01</td>\n",
       "      <td>Lawrenceville</td>\n",
       "      <td>PM25B</td>\n",
       "      <td>25</td>\n",
       "      <td>Good</td>\n",
       "      <td>NaN</td>\n",
       "      <td>NaN</td>\n",
       "    </tr>\n",
       "    <tr>\n",
       "      <th>1</th>\n",
       "      <td>2</td>\n",
       "      <td>2016-01-01</td>\n",
       "      <td>Flag Plaza</td>\n",
       "      <td>CO</td>\n",
       "      <td>0</td>\n",
       "      <td>Good</td>\n",
       "      <td>NaN</td>\n",
       "      <td>NaN</td>\n",
       "    </tr>\n",
       "    <tr>\n",
       "      <th>2</th>\n",
       "      <td>3</td>\n",
       "      <td>2016-01-01</td>\n",
       "      <td>Harrison Township</td>\n",
       "      <td>OZONE</td>\n",
       "      <td>31</td>\n",
       "      <td>Good</td>\n",
       "      <td>NaN</td>\n",
       "      <td>NaN</td>\n",
       "    </tr>\n",
       "    <tr>\n",
       "      <th>3</th>\n",
       "      <td>4</td>\n",
       "      <td>2016-01-01</td>\n",
       "      <td>Avalon</td>\n",
       "      <td>SO2</td>\n",
       "      <td>10</td>\n",
       "      <td>Good</td>\n",
       "      <td>NaN</td>\n",
       "      <td>NaN</td>\n",
       "    </tr>\n",
       "    <tr>\n",
       "      <th>4</th>\n",
       "      <td>5</td>\n",
       "      <td>2016-01-01</td>\n",
       "      <td>Lincoln</td>\n",
       "      <td>PM25</td>\n",
       "      <td>35</td>\n",
       "      <td>Good</td>\n",
       "      <td>NaN</td>\n",
       "      <td>NaN</td>\n",
       "    </tr>\n",
       "    <tr>\n",
       "      <th>...</th>\n",
       "      <td>...</td>\n",
       "      <td>...</td>\n",
       "      <td>...</td>\n",
       "      <td>...</td>\n",
       "      <td>...</td>\n",
       "      <td>...</td>\n",
       "      <td>...</td>\n",
       "      <td>...</td>\n",
       "    </tr>\n",
       "    <tr>\n",
       "      <th>95</th>\n",
       "      <td>96</td>\n",
       "      <td>2016-01-05</td>\n",
       "      <td>Lawrenceville 2</td>\n",
       "      <td>SO2</td>\n",
       "      <td>27</td>\n",
       "      <td>Good</td>\n",
       "      <td>NaN</td>\n",
       "      <td>NaN</td>\n",
       "    </tr>\n",
       "    <tr>\n",
       "      <th>96</th>\n",
       "      <td>97</td>\n",
       "      <td>2016-01-05</td>\n",
       "      <td>South Fayette</td>\n",
       "      <td>SO2</td>\n",
       "      <td>11</td>\n",
       "      <td>Good</td>\n",
       "      <td>NaN</td>\n",
       "      <td>NaN</td>\n",
       "    </tr>\n",
       "    <tr>\n",
       "      <th>97</th>\n",
       "      <td>98</td>\n",
       "      <td>2016-01-05</td>\n",
       "      <td>Parkway East</td>\n",
       "      <td>CO</td>\n",
       "      <td>7</td>\n",
       "      <td>Good</td>\n",
       "      <td>NaN</td>\n",
       "      <td>NaN</td>\n",
       "    </tr>\n",
       "    <tr>\n",
       "      <th>98</th>\n",
       "      <td>99</td>\n",
       "      <td>2016-01-05</td>\n",
       "      <td>Glassport High Street</td>\n",
       "      <td>PM10</td>\n",
       "      <td>9</td>\n",
       "      <td>Good</td>\n",
       "      <td>NaN</td>\n",
       "      <td>NaN</td>\n",
       "    </tr>\n",
       "    <tr>\n",
       "      <th>99</th>\n",
       "      <td>100</td>\n",
       "      <td>2016-01-05</td>\n",
       "      <td>Parkway East</td>\n",
       "      <td>NO2</td>\n",
       "      <td>27</td>\n",
       "      <td>Good</td>\n",
       "      <td>NaN</td>\n",
       "      <td>NaN</td>\n",
       "    </tr>\n",
       "  </tbody>\n",
       "</table>\n",
       "<p>100 rows × 8 columns</p>\n",
       "</div>"
      ],
      "text/plain": [
       "    _id        date                   site parameter  index_value description  \\\n",
       "0     1  2016-01-01          Lawrenceville     PM25B           25        Good   \n",
       "1     2  2016-01-01             Flag Plaza        CO            0        Good   \n",
       "2     3  2016-01-01      Harrison Township     OZONE           31        Good   \n",
       "3     4  2016-01-01                 Avalon       SO2           10        Good   \n",
       "4     5  2016-01-01                Lincoln      PM25           35        Good   \n",
       "..  ...         ...                    ...       ...          ...         ...   \n",
       "95   96  2016-01-05        Lawrenceville 2       SO2           27        Good   \n",
       "96   97  2016-01-05          South Fayette       SO2           11        Good   \n",
       "97   98  2016-01-05           Parkway East        CO            7        Good   \n",
       "98   99  2016-01-05  Glassport High Street      PM10            9        Good   \n",
       "99  100  2016-01-05           Parkway East       NO2           27        Good   \n",
       "\n",
       "   health_advisory health_effects  \n",
       "0              NaN            NaN  \n",
       "1              NaN            NaN  \n",
       "2              NaN            NaN  \n",
       "3              NaN            NaN  \n",
       "4              NaN            NaN  \n",
       "..             ...            ...  \n",
       "95             NaN            NaN  \n",
       "96             NaN            NaN  \n",
       "97             NaN            NaN  \n",
       "98             NaN            NaN  \n",
       "99             NaN            NaN  \n",
       "\n",
       "[100 rows x 8 columns]"
      ]
     },
     "execution_count": 2,
     "metadata": {},
     "output_type": "execute_result"
    }
   ],
   "source": [
    "aqi = pd.read_csv(\"AQI.csv\")\n",
    "aqi.head(100)"
   ]
  },
  {
   "cell_type": "code",
   "execution_count": 3,
   "metadata": {},
   "outputs": [
    {
     "name": "stdout",
     "output_type": "stream",
     "text": [
      "Lawrenceville 4398\n",
      "Flag Plaza 4002\n",
      "Harrison Township 5550\n",
      "Avalon 4424\n",
      "Lincoln 3574\n",
      "South Fayette 4999\n",
      "North Braddock 7237\n",
      "Parkway East 8572\n",
      "Liberty 2 5636\n",
      "Lawrenceville 2 5714\n",
      "Glassport High Street 2857\n",
      "Liberty 2878\n",
      "Clairton 925\n",
      "West Mifflin 301\n",
      "Pittsburgh 2605\n"
     ]
    }
   ],
   "source": [
    "dictnum = dict()\n",
    "changed = False\n",
    "for i in aqi.index:\n",
    "    \n",
    "    for x in dictnum:\n",
    "        if x == aqi['site'][i]:\n",
    "            dictnum.update({aqi['site'][i] : dictnum[x] + 1})\n",
    "            changed = True\n",
    "            break\n",
    "    \n",
    "    if changed == False:\n",
    "        dictnum.update({aqi['site'][i] : 1})\n",
    "    changed = False\n",
    "    \n",
    "for x, y in dictnum.items():\n",
    "    print(x, y)"
   ]
  },
  {
   "cell_type": "code",
   "execution_count": 4,
   "metadata": {},
   "outputs": [
    {
     "name": "stdout",
     "output_type": "stream",
     "text": [
      "Lawrenceville 37.7019099590723\n",
      "Flag Plaza 9.94927536231884\n",
      "Harrison Township 24.28900900900901\n",
      "Avalon 23.486663652802893\n",
      "Lincoln 35.10800223838836\n",
      "South Fayette 22.701740348069613\n",
      "North Braddock 18.779604808622356\n",
      "Parkway East 21.904806346243582\n",
      "Liberty 2 32.46132008516678\n",
      "Lawrenceville 2 3.0582779138956946\n",
      "Glassport High Street 17.453622681134057\n",
      "Liberty 18.506254343293953\n",
      "Clairton 25.835675675675677\n",
      "West Mifflin 6.335548172757475\n",
      "Pittsburgh 26.131669865642994\n"
     ]
    }
   ],
   "source": [
    "dictAvg = dict()\n",
    "added = False\n",
    "for i in aqi.index:\n",
    "    for x in dictAvg:\n",
    "        if x == aqi['site'][i]:\n",
    "            dictAvg.update({aqi['site'][i] : dictAvg[x] + aqi['index_value'][i]})\n",
    "            added = True\n",
    "            break\n",
    "    \n",
    "    if added == False:\n",
    "        dictAvg.update({aqi['site'][i] : aqi['index_value'][i]})\n",
    "    added = False\n",
    "\n",
    "for x in dictAvg:\n",
    "    dictAvg.update({x : dictAvg[x]/dictnum[x]})\n",
    "\n",
    "for x, y in dictAvg.items():\n",
    "    print(x, y)"
   ]
  },
  {
   "cell_type": "markdown",
   "metadata": {},
   "source": [
    "These are the averages of all of the 65,000 sets of data taken by different sesors in different neighborhoods we can see that West Mifflin and Flag Plaza have the lowest average AQI out of all of the different neighborhoods"
   ]
  },
  {
   "cell_type": "code",
   "execution_count": 5,
   "metadata": {},
   "outputs": [
    {
     "name": "stdout",
     "output_type": "stream",
     "text": [
      "Lawrenceville 20.380093936484\n",
      "Liberty 25.483787214230368\n"
     ]
    }
   ],
   "source": [
    "lawrenceAvg = (37.7019099590723 + 3.0582779138956946)/2\n",
    "libertyAvg = (32.46132008516678 + 18.506254343293953)/2\n",
    "print(\"Lawrenceville\", lawrenceAvg)\n",
    "print(\"Liberty\", libertyAvg)"
   ]
  },
  {
   "cell_type": "markdown",
   "metadata": {},
   "source": [
    "These are the offical averages of Lawrenceville and Liberty sice they both had 2 different sesors on them."
   ]
  },
  {
   "cell_type": "markdown",
   "metadata": {},
   "source": [
    "1. West Mifflin 6.335548172757475\n",
    "2. Flag Plaza 9.94927536231884\n",
    "3. Glassport High Street 17.453622681134057\n",
    "4. North Braddock 18.779604808622356\n",
    "5. Lawrenceville 20.380093936484\n",
    "6. Parkway East 21.904806346243582\n",
    "7. South Fayette 22.701740348069613\n",
    "8. Avalon 23.486663652802893\n",
    "9. Harrison Township 24.28900900900901\n",
    "10. Liberty 25.483787214230368\n",
    "11. Clairton 25.835675675675677\n",
    "12. Pittsburgh 26.131669865642994\n",
    "13. Lincoln 35.10800223838836"
   ]
  },
  {
   "cell_type": "markdown",
   "metadata": {},
   "source": [
    "Neighborhoods ranked from most healthy to least healthy average AQI"
   ]
  },
  {
   "cell_type": "code",
   "execution_count": 2,
   "metadata": {},
   "outputs": [
    {
     "data": {
      "image/png": "[encoded data removed]",
      "text/plain": [
       "<Figure size 432x288 with 1 Axes>"
      ]
     },
     "metadata": {
      "needs_background": "light"
     },
     "output_type": "display_data"
    }
   ],
   "source": [
    "df = pd.DataFrame({'Neighborhood':['Lawrenceville', 'Flag Plaza', 'Harrison Township', 'Avalon', 'Lincoln', 'South Fayette', 'North Braddock', 'Parkway East', 'Glassport High Street', 'Liberty', 'Clairton', 'West Mifflin', 'Pittsburgh'], 'AQI':[20.3, 9.9, 24.3, 23.4, 35.1, 22.7, 18.8, 21.9, 17.5, 25.5, 25.8, 6.3, 26.1]})\n",
    "ax = df.plot.bar(x='Neighborhood', y='AQI', rot=90)"
   ]
  },
  {
   "cell_type": "markdown",
   "metadata": {},
   "source": [
    "# Conclusion"
   ]
  },
  {
   "cell_type": "markdown",
   "metadata": {},
   "source": [
    "Patrick: After analyzing each submetric, I think that Mount Oliver is the safest and therefore best neighborhood in Pittsburgh. It has the lowest crime score, and the seventh lowest amount of fire incidents. Unfortunately, the air quality dataset did not split into the same neighborhoods as our other datasets, so I cannot factor that into our consideration of safest neighborhood. Overall, Mount Oliver does not struggle with crime or fire safety, so we consider it the best neighborhood in Pittsburgh."
   ]
  },
  {
   "cell_type": "markdown",
   "metadata": {},
   "source": [
    "Ayli: According to the fire safety data, either Glen Hazel or Mt. Oliver would be the safest and best city in Pittsburgh. Mt. Oliver ranks very well for both crime safety and fire safety. Personally, though, I really like both South Side and Shadyside. South Side is right by the river and I grew up there, so I have some bias on that front. But Shadyside has walnut street, which is a great little area with lots of stores and regular events for people to enjoy. "
   ]
  },
  {
   "cell_type": "markdown",
   "metadata": {},
   "source": [
    "Zachary: After analyzing the Metrics, I have come to the conclusion that Mt. Oliver is the safest neighborhood in Pittsburgh. It has a very low crime score and also one of the lowest frire incedents. The air quality data set was not split into similar neighborhoods but more so into the regions of Allagany county. So we can make an educated guess that most of the neighborhoods listed in the other metrics would be in the \"Pittsburgh\" region meaning that they will have very similar AQIs."
   ]
  },
  {
   "cell_type": "markdown",
   "metadata": {},
   "source": []
  }
 ],
 "metadata": {
  "kernelspec": {
   "display_name": "Python 3",
   "language": "python",
   "name": "python3"
  },
  "language_info": {
   "codemirror_mode": {
    "name": "ipython",
    "version": 3
   },
   "file_extension": ".py",
   "mimetype": "text/x-python",
   "name": "python",
   "nbconvert_exporter": "python",
   "pygments_lexer": "ipython3",
   "version": "3.8.3"
  }
 },
 "nbformat": 4,
 "nbformat_minor": 4
}
